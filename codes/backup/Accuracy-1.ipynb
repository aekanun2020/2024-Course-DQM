{
 "cells": [
  {
   "cell_type": "code",
   "execution_count": 2,
   "id": "e7a3f7e4-9ceb-4e95-ae3f-20fdf8f7d828",
   "metadata": {},
   "outputs": [
    {
     "name": "stdout",
     "output_type": "stream",
     "text": [
      "Percentage of rows with incorrect loan_amnt format: 100.00%\n",
      "Number of rows with incorrect loan_amnt format: 1432440\n",
      "Number of rows with loan_amnt is NULL: 26\n",
      "Percentage of rows with incorrect term format: 100.00%\n",
      "Number of rows with incorrect term format: 1432440\n",
      "Number of rows with term is NULL: 26\n"
     ]
    }
   ],
   "source": [
    "import pandas as pd\n",
    "from sqlalchemy import create_engine\n",
    "\n",
    "def load_file(filepath, columns):\n",
    "    \"\"\"Load specific columns from a CSV file.\"\"\"\n",
    "    return pd.read_csv(filepath, usecols=columns)\n",
    "\n",
    "def validate_data(df, validation_rules):\n",
    "    \"\"\"Apply regex patterns from a dictionary to validate data in dataframe columns.\"\"\"\n",
    "    for column, pattern in validation_rules.items():\n",
    "        # Ensure the column data is treated as string\n",
    "        df[f'incorrected_format_{column}'] = df[column].astype(str).apply(\n",
    "            lambda x: 'N/A' if pd.isna(x) or x == 'nan' else ('TRUE' if not pd.Series([x]).str.match(pattern).any() else 'FALSE')\n",
    "        )\n",
    "    return df\n",
    "\n",
    "\n",
    "def compute_summary(df, column):\n",
    "    \"\"\"Print summary of validation results for a specific column.\"\"\"\n",
    "    num_invalid = df[df[f'incorrected_format_{column}'] == 'TRUE'].shape[0]\n",
    "    num_na = df[df[f'incorrected_format_{column}'] == 'N/A'].shape[0]\n",
    "    total_rows = df.shape[0]\n",
    "    print(f'Percentage of rows with incorrect {column} format: {(num_invalid / total_rows) * 100:.2f}%')\n",
    "    print(f'Number of rows with incorrect {column} format: {num_invalid}')\n",
    "    print(f'Number of rows with {column} is NULL: {num_na}')\n",
    "\n",
    "def save_to_sql(df, engine, table_name):\n",
    "    \"\"\"Save DataFrame to SQL table.\"\"\"\n",
    "    df.to_sql(table_name, con=engine, if_exists='replace', index=False)\n",
    "\n",
    "if __name__ == \"__main__\":\n",
    "    filepath = 'LoanStats_web.csv'\n",
    "    columns = ['loan_amnt', 'term']\n",
    "    df = load_file(filepath, columns)\n",
    "\n",
    "    validation_rules = {\n",
    "        'loan_amnt': r'^[0-9]{1,4}$',  # Adjust the regex according to your needs\n",
    "        'term': r'^(36 months|60 months)$'\n",
    "    }\n",
    "\n",
    "    df = validate_data(df, validation_rules)\n",
    "    for column in validation_rules.keys():\n",
    "        compute_summary(df, column)\n",
    "\n",
    "    server = '34.125.58.101'\n",
    "    database = 'TestDB'\n",
    "    username = 'SA'\n",
    "    password = 'Passw0rd123456'\n",
    "    table_name = \"loan_accuracy\"\n",
    "\n",
    "    engine = create_engine(f'mssql+pymssql://{username}:{password}@{server}/{database}')\n",
    "    #save_to_sql(df, engine, table_name)\n"
   ]
  },
  {
   "cell_type": "code",
   "execution_count": null,
   "id": "2d2fff4e-afc2-42c6-997e-1ca6fe2b7f8a",
   "metadata": {},
   "outputs": [],
   "source": []
  }
 ],
 "metadata": {
  "kernelspec": {
   "display_name": "Python 3 (ipykernel)",
   "language": "python",
   "name": "python3"
  },
  "language_info": {
   "codemirror_mode": {
    "name": "ipython",
    "version": 3
   },
   "file_extension": ".py",
   "mimetype": "text/x-python",
   "name": "python",
   "nbconvert_exporter": "python",
   "pygments_lexer": "ipython3",
   "version": "3.8.18"
  }
 },
 "nbformat": 4,
 "nbformat_minor": 5
}
