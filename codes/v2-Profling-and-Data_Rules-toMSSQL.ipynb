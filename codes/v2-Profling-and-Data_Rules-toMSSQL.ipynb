{
 "cells": [
  {
   "cell_type": "markdown",
   "id": "042bb614-b580-488f-98d1-8a1f2f541ff7",
   "metadata": {},
   "source": [
    "# 1. Profiling"
   ]
  },
  {
   "cell_type": "code",
   "execution_count": 1,
   "id": "b0b2e3da-aca2-4768-82f6-85e5a595a926",
   "metadata": {},
   "outputs": [],
   "source": [
    "import pandas as pd\n",
    "# pd.set_option('display.float_format', lambda x: '%.4f' % x)\n",
    "# pd.set_option('display.max_rows', None)  # None หมายถึงไม่จำกัดจำนวนแถวที่จะแสดง\n"
   ]
  },
  {
   "cell_type": "code",
   "execution_count": 2,
   "id": "bbdb3b18-7449-49e0-a456-fd7a1305d7cc",
   "metadata": {},
   "outputs": [],
   "source": [
    "selectedCol_list = ['int_rate']"
   ]
  },
  {
   "cell_type": "code",
   "execution_count": 3,
   "id": "e0cb0d65-6308-4efc-897c-fc802ecafb9a",
   "metadata": {},
   "outputs": [],
   "source": [
    "raw_df = pd.read_csv('LoanStats_web.csv', usecols=selectedCol_list)"
   ]
  },
  {
   "cell_type": "code",
   "execution_count": 4,
   "id": "0e870a40-c92d-4e85-a7e8-67725f54da55",
   "metadata": {},
   "outputs": [
    {
     "name": "stdout",
     "output_type": "stream",
     "text": [
      "<class 'pandas.core.frame.DataFrame'>\n",
      "RangeIndex: 1432466 entries, 0 to 1432465\n",
      "Data columns (total 1 columns):\n",
      " #   Column    Non-Null Count    Dtype \n",
      "---  ------    --------------    ----- \n",
      " 0   int_rate  1432440 non-null  object\n",
      "dtypes: object(1)\n",
      "memory usage: 10.9+ MB\n"
     ]
    }
   ],
   "source": [
    "raw_df.info()"
   ]
  },
  {
   "cell_type": "code",
   "execution_count": 5,
   "id": "06d78841-1c83-4e1d-9f57-8a98b36a81cb",
   "metadata": {},
   "outputs": [
    {
     "data": {
      "text/html": [
       "<div>\n",
       "<style scoped>\n",
       "    .dataframe tbody tr th:only-of-type {\n",
       "        vertical-align: middle;\n",
       "    }\n",
       "\n",
       "    .dataframe tbody tr th {\n",
       "        vertical-align: top;\n",
       "    }\n",
       "\n",
       "    .dataframe thead th {\n",
       "        text-align: right;\n",
       "    }\n",
       "</style>\n",
       "<table border=\"1\" class=\"dataframe\">\n",
       "  <thead>\n",
       "    <tr style=\"text-align: right;\">\n",
       "      <th></th>\n",
       "      <th>int_rate</th>\n",
       "    </tr>\n",
       "  </thead>\n",
       "  <tbody>\n",
       "    <tr>\n",
       "      <th>count</th>\n",
       "      <td>1432440</td>\n",
       "    </tr>\n",
       "    <tr>\n",
       "      <th>unique</th>\n",
       "      <td>258</td>\n",
       "    </tr>\n",
       "    <tr>\n",
       "      <th>top</th>\n",
       "      <td>11.49%</td>\n",
       "    </tr>\n",
       "    <tr>\n",
       "      <th>freq</th>\n",
       "      <td>49032</td>\n",
       "    </tr>\n",
       "  </tbody>\n",
       "</table>\n",
       "</div>"
      ],
      "text/plain": [
       "       int_rate\n",
       "count   1432440\n",
       "unique      258\n",
       "top      11.49%\n",
       "freq      49032"
      ]
     },
     "execution_count": 5,
     "metadata": {},
     "output_type": "execute_result"
    }
   ],
   "source": [
    "raw_df.describe(include='all')"
   ]
  },
  {
   "cell_type": "code",
   "execution_count": 6,
   "id": "bef05c66-de3c-474f-9d4c-f74db1ca3bc9",
   "metadata": {},
   "outputs": [
    {
     "data": {
      "text/plain": [
       "count    1.432440e+06\n",
       "mean     1.299533e+01\n",
       "std      5.046147e+00\n",
       "min      5.310000e+00\n",
       "25%      9.160000e+00\n",
       "50%      1.213000e+01\n",
       "75%      1.577000e+01\n",
       "max      3.099000e+01\n",
       "Name: int_rate, dtype: float64"
      ]
     },
     "execution_count": 6,
     "metadata": {},
     "output_type": "execute_result"
    }
   ],
   "source": [
    "raw_df['int_rate'].str.rstrip('%').astype('float').describe()"
   ]
  },
  {
   "cell_type": "code",
   "execution_count": 7,
   "id": "5ab974c7-7b13-477d-af8d-3ec0393e7558",
   "metadata": {},
   "outputs": [],
   "source": [
    "# raw_df['int_rate'].str.rstrip('%').astype('float').sort_values(ascending=False)"
   ]
  },
  {
   "cell_type": "code",
   "execution_count": 8,
   "id": "91acd6cd-a658-4ec9-a968-38472f201fbd",
   "metadata": {},
   "outputs": [
    {
     "data": {
      "text/plain": [
       "int_rate\n",
       "  5.31%     8613\n",
       "  5.32%    36953\n",
       "  6.00%      493\n",
       "  6.07%     5019\n",
       "  6.08%     2968\n",
       "           ...  \n",
       " 30.79%     1223\n",
       " 30.84%      676\n",
       " 30.89%      484\n",
       " 30.94%      324\n",
       " 30.99%      464\n",
       "Length: 258, dtype: int64"
      ]
     },
     "execution_count": 8,
     "metadata": {},
     "output_type": "execute_result"
    }
   ],
   "source": [
    "raw_df.groupby('int_rate').size()"
   ]
  },
  {
   "cell_type": "code",
   "execution_count": 9,
   "id": "7f2c47ac-5103-4d30-96d1-b42ba9d65ac3",
   "metadata": {},
   "outputs": [
    {
     "data": {
      "text/plain": [
       "int_rate\n",
       " 11.49%    49032\n",
       " 12.74%    41977\n",
       " 13.49%    39202\n",
       " 13.99%    39032\n",
       "  5.32%    36953\n",
       "           ...  \n",
       " 25.99%        2\n",
       " 21.99%        2\n",
       " 15.29%        2\n",
       " 13.19%        1\n",
       " 11.16%        1\n",
       "Name: count, Length: 258, dtype: int64"
      ]
     },
     "execution_count": 9,
     "metadata": {},
     "output_type": "execute_result"
    }
   ],
   "source": [
    "raw_df['int_rate'].value_counts()"
   ]
  },
  {
   "cell_type": "markdown",
   "id": "b95712fd-e527-47ee-b76b-d77c8c816255",
   "metadata": {},
   "source": [
    "# 2. Data Rules and Use them for Measurement"
   ]
  },
  {
   "cell_type": "code",
   "execution_count": 10,
   "id": "3a102d13-8054-43fb-a48b-8edbb682f3bd",
   "metadata": {},
   "outputs": [],
   "source": [
    "# Define your data rules here\n",
    "data_rules = {\n",
    "    'int_rate': r'^\\d+\\.\\d{2}$'\n",
    "}"
   ]
  },
  {
   "cell_type": "code",
   "execution_count": 11,
   "id": "8675e15f-0cec-42df-b7e7-cf365f7ae1eb",
   "metadata": {},
   "outputs": [],
   "source": [
    "import re\n",
    "import pandas as pd\n",
    "from sqlalchemy import create_engine\n",
    "import urllib\n",
    "\n",
    "def load_file(filepath, columns):\n",
    "    \"\"\"Load specific columns from a CSV file.\"\"\"\n",
    "    return pd.read_csv(filepath, usecols=columns)\n",
    "\n",
    "def validate_data(df, data_rules):\n",
    "    \"\"\"Apply regex patterns or custom functions to validate data in dataframe columns.\"\"\"\n",
    "    for column, rule in data_rules.items():\n",
    "        df[f'corrected_format_{column}'] = df[column].apply(\n",
    "            lambda x: \"NULL\" if pd.isna(x) else (\"TRUE\" if re.match(rule, str(x)) else \"FALSE\")\n",
    "        )\n",
    "    return df\n",
    "\n",
    "def compute_summary(df, column):\n",
    "    \"\"\"Print detailed summary for validation results of a specific column.\"\"\"\n",
    "    total_rows = df.shape[0]\n",
    "    num_na = (df[f'corrected_format_{column}'] == \"NULL\").sum()\n",
    "    num_not_na = total_rows - num_na\n",
    "    num_correct = (df[f'corrected_format_{column}'] == \"TRUE\").sum()\n",
    "    num_incorrect = (df[f'corrected_format_{column}'] == \"FALSE\").sum()\n",
    "\n",
    "    print(f'Total rows: {total_rows}')\n",
    "    print(f'Number of rows with {column} is NULL: {num_na}')\n",
    "    print(f'Number of rows with {column} is not NULL: {num_not_na}')\n",
    "    print(f'Number of rows with correct {column} format and not null: {num_correct}')\n",
    "    if num_not_na > 0:  # Prevent division by zero\n",
    "        print(f'Percentage of rows with correct {column} format and not null: {num_correct / num_not_na * 100:.2f}%')\n",
    "    else:\n",
    "        print(\"No non-null data available to calculate percentage of correct format.\")\n",
    "    print(f'Number of rows with incorrect {column} format and not null: {num_incorrect}')\n",
    "    if num_not_na > 0:  # Prevent division by zero\n",
    "        print(f'Percentage of rows with incorrect {column} format and not null: {num_incorrect / num_not_na * 100:.2f}%')\n",
    "    print(\"-----------------------------------------------------------------------------------\")\n",
    "\n",
    "def save_to_sql(df, engine, table_name):\n",
    "    df.to_sql(table_name, con=engine, if_exists='replace', index=False)"
   ]
  },
  {
   "cell_type": "code",
   "execution_count": 12,
   "id": "5e1b11b4-c57d-4ba7-b547-1017c5167aa3",
   "metadata": {},
   "outputs": [
    {
     "name": "stdout",
     "output_type": "stream",
     "text": [
      "Total rows: 1432466\n",
      "Number of rows with int_rate is NULL: 26\n",
      "Number of rows with int_rate is not NULL: 1432440\n",
      "Number of rows with correct int_rate format and not null: 0\n",
      "Percentage of rows with correct int_rate format and not null: 0.00%\n",
      "Number of rows with incorrect int_rate format and not null: 1432440\n",
      "Percentage of rows with incorrect int_rate format and not null: 100.00%\n",
      "-----------------------------------------------------------------------------------\n"
     ]
    }
   ],
   "source": [
    "# Implement in main script\n",
    "if __name__ == \"__main__\":\n",
    "    filepath = 'LoanStats_web.csv'\n",
    "    columns = list(data_rules.keys())\n",
    "    df = load_file(filepath, columns)\n",
    "    df = validate_data(df, data_rules)\n",
    "    for column in data_rules.keys():\n",
    "        compute_summary(df, column)\n",
    "\n",
    "\n",
    "\n",
    "    # Save to sql\n",
    "    server = '34.125.58.101'\n",
    "    database = 'TestDB'\n",
    "    username = 'SA'\n",
    "    password = 'Passw0rd123456'\n",
    "    table_name = \"loan_data_assessment\"\n",
    "    \n",
    "    # ตั้งค่าการเชื่อมต่อกับ MSSQL โดยใช้ข้อมูลที่เหมาะสมกับสภาพแวดล้อมของคุณ\n",
    "    params = urllib.parse.quote_plus(\"DRIVER={ODBC Driver 17 for SQL Server};SERVER=server;DATABASE=database;UID=username;PWD=password\")\n",
    "    ##### engine = create_engine(f\"mssql+pyodbc:///?odbc_connect={params}\")\n",
    "    # Using pymssql\n",
    "    engine = create_engine(f'mssql+pymssql://{username}:{password}@{server}/{database}')\n",
    "    \n",
    "    save_to_sql(df, engine, table_name)"
   ]
  },
  {
   "cell_type": "code",
   "execution_count": null,
   "id": "eea3fe8c-f057-4935-a33d-b220036eda6f",
   "metadata": {},
   "outputs": [],
   "source": []
  },
  {
   "cell_type": "code",
   "execution_count": null,
   "id": "f4aad568-2fd4-4db6-9086-beefa811af64",
   "metadata": {},
   "outputs": [],
   "source": []
  }
 ],
 "metadata": {
  "kernelspec": {
   "display_name": "Python 3 (ipykernel)",
   "language": "python",
   "name": "python3"
  },
  "language_info": {
   "codemirror_mode": {
    "name": "ipython",
    "version": 3
   },
   "file_extension": ".py",
   "mimetype": "text/x-python",
   "name": "python",
   "nbconvert_exporter": "python",
   "pygments_lexer": "ipython3",
   "version": "3.8.19"
  }
 },
 "nbformat": 4,
 "nbformat_minor": 5
}
