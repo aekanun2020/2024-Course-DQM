{
 "cells": [
  {
   "cell_type": "code",
   "execution_count": 1,
   "id": "b0b2e3da-aca2-4768-82f6-85e5a595a926",
   "metadata": {},
   "outputs": [],
   "source": [
    "import pandas as pd"
   ]
  },
  {
   "cell_type": "code",
   "execution_count": 2,
   "id": "bbdb3b18-7449-49e0-a456-fd7a1305d7cc",
   "metadata": {},
   "outputs": [],
   "source": [
    "selectedCol_list = ['int_rate']"
   ]
  },
  {
   "cell_type": "code",
   "execution_count": 3,
   "id": "e0cb0d65-6308-4efc-897c-fc802ecafb9a",
   "metadata": {},
   "outputs": [],
   "source": [
    "raw_df = pd.read_csv('LoanStats_web.csv', usecols=selectedCol_list)"
   ]
  },
  {
   "cell_type": "code",
   "execution_count": 4,
   "id": "0e870a40-c92d-4e85-a7e8-67725f54da55",
   "metadata": {},
   "outputs": [
    {
     "name": "stdout",
     "output_type": "stream",
     "text": [
      "<class 'pandas.core.frame.DataFrame'>\n",
      "RangeIndex: 1432466 entries, 0 to 1432465\n",
      "Data columns (total 1 columns):\n",
      " #   Column    Non-Null Count    Dtype \n",
      "---  ------    --------------    ----- \n",
      " 0   int_rate  1432440 non-null  object\n",
      "dtypes: object(1)\n",
      "memory usage: 10.9+ MB\n"
     ]
    }
   ],
   "source": [
    "raw_df.info()"
   ]
  },
  {
   "cell_type": "code",
   "execution_count": 5,
   "id": "91acd6cd-a658-4ec9-a968-38472f201fbd",
   "metadata": {},
   "outputs": [
    {
     "data": {
      "text/plain": [
       "int_rate\n",
       "  5.31%     8613\n",
       "  5.32%    36953\n",
       "  6.00%      493\n",
       "  6.07%     5019\n",
       "  6.08%     2968\n",
       "           ...  \n",
       " 30.79%     1223\n",
       " 30.84%      676\n",
       " 30.89%      484\n",
       " 30.94%      324\n",
       " 30.99%      464\n",
       "Length: 258, dtype: int64"
      ]
     },
     "execution_count": 5,
     "metadata": {},
     "output_type": "execute_result"
    }
   ],
   "source": [
    "raw_df.groupby('int_rate').size()"
   ]
  },
  {
   "cell_type": "code",
   "execution_count": 6,
   "id": "7f2c47ac-5103-4d30-96d1-b42ba9d65ac3",
   "metadata": {},
   "outputs": [
    {
     "data": {
      "text/plain": [
       "int_rate\n",
       " 11.49%    49032\n",
       " 12.74%    41977\n",
       " 13.49%    39202\n",
       " 13.99%    39032\n",
       "  5.32%    36953\n",
       "           ...  \n",
       " 25.99%        2\n",
       " 21.99%        2\n",
       " 15.29%        2\n",
       " 13.19%        1\n",
       " 11.16%        1\n",
       "Name: count, Length: 258, dtype: int64"
      ]
     },
     "execution_count": 6,
     "metadata": {},
     "output_type": "execute_result"
    }
   ],
   "source": [
    "raw_df['int_rate'].value_counts()"
   ]
  },
  {
   "cell_type": "code",
   "execution_count": null,
   "id": "d4ee4209-a629-470e-9c24-8cf66c5e9d0e",
   "metadata": {},
   "outputs": [],
   "source": []
  },
  {
   "cell_type": "raw",
   "id": "d7a3d55e-9dcc-4f63-b980-dd574d58d63c",
   "metadata": {},
   "source": [
    "import re\n",
    "import pandas as pd\n",
    "from sqlalchemy import create_engine\n",
    "import urllib\n",
    "\n",
    "def load_file(filepath, columns):\n",
    "    \"\"\"Load specific columns from a CSV file.\"\"\"\n",
    "    return pd.read_csv(filepath, usecols=columns)\n",
    "\n",
    "def validate_data(df, validation_rules):\n",
    "    \"\"\"Apply regex patterns or custom functions to validate data in dataframe columns.\"\"\"\n",
    "    for column, rule in validation_rules.items():\n",
    "        if isinstance(rule, str):  # Regex pattern\n",
    "            df[f'corrected_format_{column}'] = df[column].apply(\n",
    "                lambda x: None if pd.isna(x) else (True if re.match(rule, str(x)) else False)\n",
    "            )\n",
    "        elif callable(rule):  # Function to handle complex validations\n",
    "            df[f'corrected_format_{column}'] = df[column].apply(\n",
    "                lambda x: None if pd.isna(x) else rule(x)\n",
    "            )\n",
    "    return df\n",
    "\n",
    "def non_negative(value):\n",
    "    \"\"\"Return True if value is non-negative, else False.\"\"\"\n",
    "    try:\n",
    "        return float(value) >= 0\n",
    "    except ValueError:\n",
    "        return False\n",
    "\n",
    "def validate_date(value):\n",
    "    \"\"\"Validates date strings against the expected format 'Mon-YYYY', returning True if valid.\"\"\"\n",
    "    try:\n",
    "        pd.to_datetime(value, format='%b-%Y')\n",
    "        return True\n",
    "    except ValueError:\n",
    "        return False\n",
    "\n",
    "# Updated summary function as described above\n",
    "def compute_summary(df, column):\n",
    "    \"\"\"Print detailed summary for validation results of a specific column.\"\"\"\n",
    "    total_rows = df.shape[0]\n",
    "    num_na = df[df[f'corrected_format_{column}'].isna()].shape[0]\n",
    "    num_not_na = total_rows - num_na\n",
    "    num_correct = df[(df[f'corrected_format_{column}'] == True) & (df[column].notna())].shape[0]\n",
    "    num_incorrect = df[(df[f'corrected_format_{column}'] == False) & (df[column].notna())].shape[0]\n",
    "\n",
    "    print(f'Total rows: {total_rows}')\n",
    "    print(f'Number of rows with {column} is NULL: {num_na}')\n",
    "    print(f'Number of rows with {column} is not NULL: {num_not_na}')\n",
    "    print(f'Number of rows with correct {column} format and not null: {num_correct}')\n",
    "    if num_not_na > 0:  # Prevent division by zero\n",
    "        print(f'Percentage of rows with correct {column} format and not null: {num_correct / num_not_na * 100:.4f}%')\n",
    "    else:\n",
    "        print(\"No non-null data available to calculate percentage of correct format.\")\n",
    "    print(f'Number of rows with incorrect {column} format and not null: {num_incorrect}')\n",
    "    if num_not_na > 0:  # Prevent division by zero\n",
    "        print(f'Percentage of rows with incorrect {column} format and not null: {num_incorrect / num_not_na * 100:.4f}%')\n",
    "    else:\n",
    "        print(\"No non-null data available to calculate percentage of incorrect format.\")\n",
    "    print(\"-----------------------------------------------------------------------------------\")\n",
    "\n",
    "def save_to_sql(df, engine, table_name):\n",
    "    # engine = create_engine(url)\n",
    "    df.to_sql(table_name, con=engine, if_exists='replace', index=False)\n",
    "\n",
    "# Define your validation rules here\n",
    "validation_rules = {\n",
    "    'application_type': r'^(Individual|Joint App)$',\n",
    "    'annual_inc': non_negative,\n",
    "    'annual_inc_joint': r'^\\d+(\\.\\d+)?$',\n",
    "    'dti': lambda x: None if pd.isna(x) else (False if float(x) < 0 else True),\n",
    "    'emp_length': r'^(< 1 year|1 year|2 years|3 years|4 years|5 years|6 years|7 years|8 years|9 years|10\\+ years)$',\n",
    "    'issue_d': validate_date,\n",
    "    'int_rate': r'^\\d+\\.\\d{2}%$',\n",
    "    'home_ownership': r'^(ANY|MORTGAGE|NONE|OWN|RENT)$',\n",
    "    'loan_status': r'^(Charged Off|Current|Default|Fully Paid|In Grace Period|Late \\(16-30 days\\)|Late \\(31-120 days\\))$',\n",
    "    'loan_amnt': lambda x: None if pd.isna(x) else (False if not 1000 <= float(x) <= 40000 else True),\n",
    "    'funded_amnt': lambda x: None if pd.isna(x) else (False if not 1000 <= float(x) <= 40000 else True),\n",
    "    'installment': r'^\\d+\\.\\d{2}$'\n",
    "}\n",
    "\n",
    "# Implement in main script\n",
    "if __name__ == \"__main__\":\n",
    "    filepath = 'LoanStats_web.csv'\n",
    "    columns = list(validation_rules.keys())\n",
    "    df = load_file(filepath, columns)\n",
    "    df = validate_data(df, validation_rules)\n",
    "    for column in validation_rules.keys():\n",
    "        compute_summary(df, column)\n",
    "\n",
    "    \n",
    "    # Save to sql\n",
    "    server = '34.125.58.101'\n",
    "    database = 'TestDB'\n",
    "    username = 'SA'\n",
    "    password = 'Passw0rd123456'\n",
    "    table_name = \"loan_accuracy\"\n",
    "    \n",
    "    # ตั้งค่าการเชื่อมต่อกับ MSSQL โดยใช้ข้อมูลที่เหมาะสมกับสภาพแวดล้อมของคุณ\n",
    "    params = urllib.parse.quote_plus(\"DRIVER={ODBC Driver 17 for SQL Server};SERVER=server;DATABASE=database;UID=username;PWD=password\")\n",
    "    ##### engine = create_engine(f\"mssql+pyodbc:///?odbc_connect={params}\")\n",
    "    # Using pymssql\n",
    "    engine = create_engine(f'mssql+pymssql://{username}:{password}@{server}/{database}')\n",
    "    \n",
    "    save_to_sql(df, engine, table_name)\n",
    "\n"
   ]
  },
  {
   "cell_type": "raw",
   "id": "092aa7d2-e419-4352-bec9-8a47c43ac5db",
   "metadata": {},
   "source": [
    "import pandas as pd\n",
    "from sqlalchemy import create_engine\n",
    "\n",
    "def load_file(filepath, columns):\n",
    "    \"\"\"Load specific columns from a CSV file.\"\"\"\n",
    "    return pd.read_csv(filepath, usecols=columns)\n",
    "\n",
    "def validate_data(df, validation_rules):\n",
    "    \"\"\"Apply regex patterns from a dictionary to validate data in dataframe columns, excluding NULL values.\"\"\"\n",
    "    for column, pattern in validation_rules.items():\n",
    "        # Convert data to string and check against regex, skip NULL values\n",
    "        df[f'incorrected_format_{column}'] = df[column].apply(\n",
    "            lambda x: 'N/A' if pd.isna(x) else ('TRUE' if not pd.Series([str(x)]).str.match(pattern).any() else 'FALSE')\n",
    "        )\n",
    "    return df\n",
    "\n",
    "\n",
    "\n",
    "def compute_summary(df, column):\n",
    "    \"\"\"Print summary of validation results for a specific column.\"\"\"\n",
    "    num_invalid = df[df[f'incorrected_format_{column}'] == 'TRUE'].shape[0]\n",
    "    num_na = df[df[f'incorrected_format_{column}'] == 'N/A'].shape[0]\n",
    "    total_rows = df.shape[0]\n",
    "    print(f'Percentage of rows with incorrect {column} format: {(num_invalid / total_rows) * 100:.2f}%')\n",
    "    print(f'Number of rows with incorrect {column} format: {num_invalid}')\n",
    "    print(f'Number of rows with {column} is NULL: {num_na}')\n",
    "\n",
    "def save_to_sql(df, engine, table_name):\n",
    "    \"\"\"Save DataFrame to SQL table.\"\"\"\n",
    "    df.to_sql(table_name, con=engine, if_exists='replace', index=False)\n",
    "\n",
    "if __name__ == \"__main__\":\n",
    "    filepath = 'LoanStats_web.csv'\n",
    "    columns = ['loan_amnt', 'term']\n",
    "    df = load_file(filepath, columns)\n",
    "\n",
    "    validation_rules = {\n",
    "        'loan_amnt': r'^[0-9]{1,4}$',  # Adjust the regex according to your needs\n",
    "        'term': r'^(36 months|60 months)$'\n",
    "    }\n",
    "\n",
    "    df = validate_data(df, validation_rules)\n",
    "    for column in validation_rules.keys():\n",
    "        compute_summary(df, column)\n",
    "\n",
    "    server = '34.125.58.101'\n",
    "    database = 'TestDB'\n",
    "    username = 'SA'\n",
    "    password = 'Passw0rd123456'\n",
    "    table_name = \"loan_accuracy\"\n",
    "\n",
    "    engine = create_engine(f'mssql+pymssql://{username}:{password}@{server}/{database}')\n",
    "    #save_to_sql(df, engine, table_name)\n"
   ]
  },
  {
   "cell_type": "raw",
   "id": "1b95fd10-bf8d-4d58-b182-e2fb8bdc1a0c",
   "metadata": {},
   "source": [
    "dev_df = pd.read_csv(filepath)[['application_type', 'annual_inc', 'annual_inc_joint', 'dti', 'dti_joint', 'emp_length'\\\n",
    " ,'issue_d','int_rate','home_ownership','loan_status','loan_amnt', 'funded_amnt','installment']]"
   ]
  },
  {
   "cell_type": "raw",
   "id": "bb7fb5b9-26ee-47b5-825d-50a756dbb622",
   "metadata": {},
   "source": [
    "dev_df.describe(include='all')"
   ]
  },
  {
   "cell_type": "raw",
   "id": "5c5960c2-7014-44a7-8a9a-48fe96dff5a5",
   "metadata": {},
   "source": [
    "for n in dev_df.columns:\n",
    "    print(dev_df[[n]].groupby(n).size())"
   ]
  },
  {
   "cell_type": "raw",
   "id": "fef9a7e9-58df-40ac-9271-50a97c830253",
   "metadata": {},
   "source": [
    "dev_df.columns"
   ]
  },
  {
   "cell_type": "raw",
   "id": "66b03b67-7721-4cec-990b-3766183c6620",
   "metadata": {},
   "source": [
    "for n in dev_df.columns:\n",
    "    print(n)"
   ]
  },
  {
   "cell_type": "raw",
   "id": "644932d5-05fd-47bc-ac94-b99a795d4596",
   "metadata": {},
   "source": [
    "dev_df[['application_type']].groupby('application_type').size()"
   ]
  },
  {
   "cell_type": "raw",
   "id": "ec2678da-9dca-47f8-b715-ab786678496b",
   "metadata": {},
   "source": []
  }
 ],
 "metadata": {
  "kernelspec": {
   "display_name": "Python 3 (ipykernel)",
   "language": "python",
   "name": "python3"
  },
  "language_info": {
   "codemirror_mode": {
    "name": "ipython",
    "version": 3
   },
   "file_extension": ".py",
   "mimetype": "text/x-python",
   "name": "python",
   "nbconvert_exporter": "python",
   "pygments_lexer": "ipython3",
   "version": "3.8.19"
  }
 },
 "nbformat": 4,
 "nbformat_minor": 5
}
