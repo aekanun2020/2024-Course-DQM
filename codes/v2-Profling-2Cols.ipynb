{
 "cells": [
  {
   "cell_type": "markdown",
   "id": "042bb614-b580-488f-98d1-8a1f2f541ff7",
   "metadata": {},
   "source": [
    "# 1. Profiling"
   ]
  },
  {
   "cell_type": "code",
   "execution_count": 1,
   "id": "b0b2e3da-aca2-4768-82f6-85e5a595a926",
   "metadata": {},
   "outputs": [],
   "source": [
    "import pandas as pd\n",
    "# pd.set_option('display.float_format', lambda x: '%.4f' % x)\n",
    "# pd.set_option('display.max_rows', None)  # None หมายถึงไม่จำกัดจำนวนแถวที่จะแสดง\n"
   ]
  },
  {
   "cell_type": "code",
   "execution_count": 2,
   "id": "bbdb3b18-7449-49e0-a456-fd7a1305d7cc",
   "metadata": {},
   "outputs": [],
   "source": [
    "selectedCol_list = ['int_rate','loan_status','annual_inc']"
   ]
  },
  {
   "cell_type": "code",
   "execution_count": 3,
   "id": "e0cb0d65-6308-4efc-897c-fc802ecafb9a",
   "metadata": {},
   "outputs": [],
   "source": [
    "raw_df = pd.read_csv('LoanStats_web.csv', usecols=selectedCol_list)"
   ]
  },
  {
   "cell_type": "code",
   "execution_count": 4,
   "id": "0e870a40-c92d-4e85-a7e8-67725f54da55",
   "metadata": {},
   "outputs": [
    {
     "name": "stdout",
     "output_type": "stream",
     "text": [
      "<class 'pandas.core.frame.DataFrame'>\n",
      "RangeIndex: 1432466 entries, 0 to 1432465\n",
      "Data columns (total 3 columns):\n",
      " #   Column       Non-Null Count    Dtype  \n",
      "---  ------       --------------    -----  \n",
      " 0   int_rate     1432440 non-null  object \n",
      " 1   annual_inc   1432440 non-null  float64\n",
      " 2   loan_status  1432440 non-null  object \n",
      "dtypes: float64(1), object(2)\n",
      "memory usage: 32.8+ MB\n"
     ]
    }
   ],
   "source": [
    "raw_df.info()"
   ]
  },
  {
   "cell_type": "code",
   "execution_count": 5,
   "id": "06d78841-1c83-4e1d-9f57-8a98b36a81cb",
   "metadata": {},
   "outputs": [
    {
     "data": {
      "text/html": [
       "<div>\n",
       "<style scoped>\n",
       "    .dataframe tbody tr th:only-of-type {\n",
       "        vertical-align: middle;\n",
       "    }\n",
       "\n",
       "    .dataframe tbody tr th {\n",
       "        vertical-align: top;\n",
       "    }\n",
       "\n",
       "    .dataframe thead th {\n",
       "        text-align: right;\n",
       "    }\n",
       "</style>\n",
       "<table border=\"1\" class=\"dataframe\">\n",
       "  <thead>\n",
       "    <tr style=\"text-align: right;\">\n",
       "      <th></th>\n",
       "      <th>int_rate</th>\n",
       "      <th>annual_inc</th>\n",
       "      <th>loan_status</th>\n",
       "    </tr>\n",
       "  </thead>\n",
       "  <tbody>\n",
       "    <tr>\n",
       "      <th>count</th>\n",
       "      <td>1432440</td>\n",
       "      <td>1.432440e+06</td>\n",
       "      <td>1432440</td>\n",
       "    </tr>\n",
       "    <tr>\n",
       "      <th>unique</th>\n",
       "      <td>258</td>\n",
       "      <td>NaN</td>\n",
       "      <td>7</td>\n",
       "    </tr>\n",
       "    <tr>\n",
       "      <th>top</th>\n",
       "      <td>11.49%</td>\n",
       "      <td>NaN</td>\n",
       "      <td>Current</td>\n",
       "    </tr>\n",
       "    <tr>\n",
       "      <th>freq</th>\n",
       "      <td>49032</td>\n",
       "      <td>NaN</td>\n",
       "      <td>702223</td>\n",
       "    </tr>\n",
       "    <tr>\n",
       "      <th>mean</th>\n",
       "      <td>NaN</td>\n",
       "      <td>8.103458e+04</td>\n",
       "      <td>NaN</td>\n",
       "    </tr>\n",
       "    <tr>\n",
       "      <th>std</th>\n",
       "      <td>NaN</td>\n",
       "      <td>1.341834e+05</td>\n",
       "      <td>NaN</td>\n",
       "    </tr>\n",
       "    <tr>\n",
       "      <th>min</th>\n",
       "      <td>NaN</td>\n",
       "      <td>0.000000e+00</td>\n",
       "      <td>NaN</td>\n",
       "    </tr>\n",
       "    <tr>\n",
       "      <th>25%</th>\n",
       "      <td>NaN</td>\n",
       "      <td>4.800000e+04</td>\n",
       "      <td>NaN</td>\n",
       "    </tr>\n",
       "    <tr>\n",
       "      <th>50%</th>\n",
       "      <td>NaN</td>\n",
       "      <td>6.800000e+04</td>\n",
       "      <td>NaN</td>\n",
       "    </tr>\n",
       "    <tr>\n",
       "      <th>75%</th>\n",
       "      <td>NaN</td>\n",
       "      <td>9.666700e+04</td>\n",
       "      <td>NaN</td>\n",
       "    </tr>\n",
       "    <tr>\n",
       "      <th>max</th>\n",
       "      <td>NaN</td>\n",
       "      <td>6.100000e+07</td>\n",
       "      <td>NaN</td>\n",
       "    </tr>\n",
       "  </tbody>\n",
       "</table>\n",
       "</div>"
      ],
      "text/plain": [
       "       int_rate    annual_inc loan_status\n",
       "count   1432440  1.432440e+06     1432440\n",
       "unique      258           NaN           7\n",
       "top      11.49%           NaN     Current\n",
       "freq      49032           NaN      702223\n",
       "mean        NaN  8.103458e+04         NaN\n",
       "std         NaN  1.341834e+05         NaN\n",
       "min         NaN  0.000000e+00         NaN\n",
       "25%         NaN  4.800000e+04         NaN\n",
       "50%         NaN  6.800000e+04         NaN\n",
       "75%         NaN  9.666700e+04         NaN\n",
       "max         NaN  6.100000e+07         NaN"
      ]
     },
     "execution_count": 5,
     "metadata": {},
     "output_type": "execute_result"
    }
   ],
   "source": [
    "raw_df.describe(include='all')"
   ]
  },
  {
   "cell_type": "code",
   "execution_count": 6,
   "id": "bef05c66-de3c-474f-9d4c-f74db1ca3bc9",
   "metadata": {},
   "outputs": [
    {
     "data": {
      "text/plain": [
       "count    1.432440e+06\n",
       "mean     1.299533e+01\n",
       "std      5.046147e+00\n",
       "min      5.310000e+00\n",
       "25%      9.160000e+00\n",
       "50%      1.213000e+01\n",
       "75%      1.577000e+01\n",
       "max      3.099000e+01\n",
       "Name: int_rate, dtype: float64"
      ]
     },
     "execution_count": 6,
     "metadata": {},
     "output_type": "execute_result"
    }
   ],
   "source": [
    "raw_df['int_rate'].str.rstrip('%').astype('float').describe()"
   ]
  },
  {
   "cell_type": "code",
   "execution_count": 7,
   "id": "5ab974c7-7b13-477d-af8d-3ec0393e7558",
   "metadata": {},
   "outputs": [],
   "source": [
    "# raw_df['int_rate'].str.rstrip('%').astype('float').sort_values(ascending=False)"
   ]
  },
  {
   "cell_type": "code",
   "execution_count": 8,
   "id": "91acd6cd-a658-4ec9-a968-38472f201fbd",
   "metadata": {},
   "outputs": [
    {
     "data": {
      "text/plain": [
       "int_rate\n",
       "  5.31%     8613\n",
       "  5.32%    36953\n",
       "  6.00%      493\n",
       "  6.07%     5019\n",
       "  6.08%     2968\n",
       "           ...  \n",
       " 30.79%     1223\n",
       " 30.84%      676\n",
       " 30.89%      484\n",
       " 30.94%      324\n",
       " 30.99%      464\n",
       "Length: 258, dtype: int64"
      ]
     },
     "execution_count": 8,
     "metadata": {},
     "output_type": "execute_result"
    }
   ],
   "source": [
    "raw_df.groupby('int_rate').size()"
   ]
  },
  {
   "cell_type": "code",
   "execution_count": 9,
   "id": "3aadefac-81d4-490d-9ab0-910142791735",
   "metadata": {},
   "outputs": [
    {
     "data": {
      "text/plain": [
       "7"
      ]
     },
     "execution_count": 9,
     "metadata": {},
     "output_type": "execute_result"
    }
   ],
   "source": [
    "len(raw_df['loan_status'].value_counts())"
   ]
  },
  {
   "cell_type": "code",
   "execution_count": 10,
   "id": "c6615c2e-fc12-4615-84b0-f58225dc35a3",
   "metadata": {},
   "outputs": [
    {
     "data": {
      "text/plain": [
       "258"
      ]
     },
     "execution_count": 10,
     "metadata": {},
     "output_type": "execute_result"
    }
   ],
   "source": [
    "len(raw_df['int_rate'].value_counts())"
   ]
  },
  {
   "cell_type": "code",
   "execution_count": 14,
   "id": "9635f6fc-0ecc-4e6c-a8db-1d3c42a89247",
   "metadata": {},
   "outputs": [
    {
     "data": {
      "text/plain": [
       "56320"
      ]
     },
     "execution_count": 14,
     "metadata": {},
     "output_type": "execute_result"
    }
   ],
   "source": [
    "len(raw_df['annual_inc'].value_counts())"
   ]
  },
  {
   "cell_type": "code",
   "execution_count": 13,
   "id": "bcd82f48-3abb-48df-b107-83bbafa88298",
   "metadata": {},
   "outputs": [
    {
     "data": {
      "text/plain": [
       "loan_status\n",
       "Current               702223\n",
       "Fully Paid            551955\n",
       "Charged Off           147348\n",
       "Late (31-120 days)     18752\n",
       "In Grace Period         7928\n",
       "Late (16-30 days)       4207\n",
       "Default                   27\n",
       "Name: count, dtype: int64"
      ]
     },
     "execution_count": 13,
     "metadata": {},
     "output_type": "execute_result"
    }
   ],
   "source": [
    "raw_df['loan_status'].value_counts()"
   ]
  },
  {
   "cell_type": "code",
   "execution_count": 12,
   "id": "7e72e20c-997d-4b22-8c86-e3b149f9a131",
   "metadata": {},
   "outputs": [
    {
     "data": {
      "text/plain": [
       "annual_inc\n",
       "60000.00     54246\n",
       "50000.00     47070\n",
       "65000.00     40723\n",
       "70000.00     39344\n",
       "80000.00     38820\n",
       "             ...  \n",
       "61617.00         1\n",
       "85652.65         1\n",
       "139525.03        1\n",
       "69667.00         1\n",
       "75005.00         1\n",
       "Name: count, Length: 56320, dtype: int64"
      ]
     },
     "execution_count": 12,
     "metadata": {},
     "output_type": "execute_result"
    }
   ],
   "source": [
    "raw_df['annual_inc'].value_counts()"
   ]
  },
  {
   "cell_type": "code",
   "execution_count": 11,
   "id": "7f2c47ac-5103-4d30-96d1-b42ba9d65ac3",
   "metadata": {},
   "outputs": [
    {
     "data": {
      "text/plain": [
       "int_rate\n",
       " 11.49%    49032\n",
       " 12.74%    41977\n",
       " 13.49%    39202\n",
       " 13.99%    39032\n",
       "  5.32%    36953\n",
       "           ...  \n",
       " 25.99%        2\n",
       " 21.99%        2\n",
       " 15.29%        2\n",
       " 13.19%        1\n",
       " 11.16%        1\n",
       "Name: count, Length: 258, dtype: int64"
      ]
     },
     "execution_count": 11,
     "metadata": {},
     "output_type": "execute_result"
    }
   ],
   "source": [
    "raw_df['int_rate'].value_counts()"
   ]
  }
 ],
 "metadata": {
  "kernelspec": {
   "display_name": "Python 3 (ipykernel)",
   "language": "python",
   "name": "python3"
  },
  "language_info": {
   "codemirror_mode": {
    "name": "ipython",
    "version": 3
   },
   "file_extension": ".py",
   "mimetype": "text/x-python",
   "name": "python",
   "nbconvert_exporter": "python",
   "pygments_lexer": "ipython3",
   "version": "3.8.18"
  }
 },
 "nbformat": 4,
 "nbformat_minor": 5
}
