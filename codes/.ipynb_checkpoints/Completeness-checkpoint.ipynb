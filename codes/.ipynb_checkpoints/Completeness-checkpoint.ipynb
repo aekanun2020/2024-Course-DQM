{
 "cells": [
  {
   "cell_type": "code",
   "execution_count": 1,
   "id": "6ead4ef5-2ff6-4535-85ba-7df144fdb7d0",
   "metadata": {},
   "outputs": [],
   "source": [
    "# ! wget https://storage.googleapis.com/tpqi3/LoanStats_web.csv"
   ]
  },
  {
   "cell_type": "code",
   "execution_count": 2,
   "id": "7568b67f-9d42-4a1b-9c2b-6111a8829832",
   "metadata": {},
   "outputs": [],
   "source": [
    "#!/usr/bin/env python\n",
    "# coding: utf-8\n",
    "\n",
    "import pandas as pd\n",
    "from sqlalchemy import create_engine\n",
    "import urllib"
   ]
  },
  {
   "cell_type": "code",
   "execution_count": 3,
   "id": "00c2b1b4-26b7-43d9-bee5-ba295eca0f65",
   "metadata": {},
   "outputs": [],
   "source": [
    "# Load CSV file and select specified columns\n",
    "def load_file(filepath, columns):\n",
    "    return pd.read_csv(filepath, usecols=columns)\n",
    "\n",
    "# Check for null or empty values in specified columns\n",
    "def check_null_or_empty(df, columns):\n",
    "    for column in columns:\n",
    "        df[f'incompleted_{column}'] = df[column].apply(lambda x: 'TRUE' if pd.isna(x) or x == '' else 'FALSE')\n",
    "    return df\n",
    "\n",
    "# Save DataFrame to SQL database\n",
    "def save_to_sql(df, engine, table_name):\n",
    "    # engine = create_engine(url)\n",
    "    df.to_sql(table_name, con=engine, if_exists='replace', index=False)"
   ]
  },
  {
   "cell_type": "code",
   "execution_count": 5,
   "id": "dbadcf73-ff9f-4a3f-be2c-c086a88878da",
   "metadata": {},
   "outputs": [],
   "source": [
    "# Main execution block\n",
    "if __name__ == \"__main__\":\n",
    "    filepath = 'LoanStats_web.csv'\n",
    "    columns_to_check = ['loan_amnt', 'term']\n",
    "    df = load_file(filepath, columns_to_check)\n",
    "    df = check_null_or_empty(df, columns_to_check)\n",
    "    \n",
    "    # Database connection details\n",
    "    # Save to sql\n",
    "\n",
    "    server = '34.125.58.101'\n",
    "    database = 'TestDB'\n",
    "    username = 'SA'\n",
    "    password = 'Passw0rd123456'\n",
    "    table_name = 'loan_completeness'\n",
    "    \n",
    "    # ตั้งค่าการเชื่อมต่อกับ MSSQL โดยใช้ข้อมูลที่เหมาะสมกับสภาพแวดล้อมของคุณ\n",
    "    params = urllib.parse.quote_plus(\"DRIVER={ODBC Driver 17 for SQL Server};SERVER=server;DATABASE=database;UID=username;PWD=password\")\n",
    "    ##### engine = create_engine(f\"mssql+pyodbc:///?odbc_connect={params}\")\n",
    "    # Using pymssql\n",
    "    engine = create_engine(f'mssql+pymssql://{username}:{password}@{server}/{database}')\n",
    "    \n",
    "    save_to_sql(df, engine, table_name)\n",
    "\n"
   ]
  },
  {
   "cell_type": "code",
   "execution_count": null,
   "id": "ffe6441b-0c2e-49de-99d3-5f44568e692c",
   "metadata": {},
   "outputs": [],
   "source": []
  }
 ],
 "metadata": {
  "kernelspec": {
   "display_name": "Python 3 (ipykernel)",
   "language": "python",
   "name": "python3"
  },
  "language_info": {
   "codemirror_mode": {
    "name": "ipython",
    "version": 3
   },
   "file_extension": ".py",
   "mimetype": "text/x-python",
   "name": "python",
   "nbconvert_exporter": "python",
   "pygments_lexer": "ipython3",
   "version": "3.8.18"
  }
 },
 "nbformat": 4,
 "nbformat_minor": 5
}
