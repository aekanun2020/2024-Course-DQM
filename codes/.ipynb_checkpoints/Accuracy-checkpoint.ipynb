{
 "cells": [
  {
   "cell_type": "code",
   "execution_count": 1,
   "id": "6ead4ef5-2ff6-4535-85ba-7df144fdb7d0",
   "metadata": {},
   "outputs": [],
   "source": [
    "# ! wget https://storage.googleapis.com/tpqi3/LoanStats_web.csv"
   ]
  },
  {
   "cell_type": "code",
   "execution_count": 2,
   "id": "a0115da0-2f02-41ac-a51d-981441796aa2",
   "metadata": {},
   "outputs": [],
   "source": [
    "#!/usr/bin/env python\n",
    "# coding: utf-8\n",
    "\n",
    "import pandas as pd\n",
    "from sqlalchemy import create_engine\n",
    "import urllib\n"
   ]
  },
  {
   "cell_type": "code",
   "execution_count": 3,
   "id": "41a3e8f9-43c2-4f66-b402-f89951eb8e21",
   "metadata": {},
   "outputs": [],
   "source": [
    "\n",
    "def load_file(filepath, columns):\n",
    "    return pd.read_csv(filepath, usecols=columns)\n",
    "\n",
    "def check_positive_int(df, column, max_length):\n",
    "    df[f'incorrected_format_{column}'] = df[column].apply(\n",
    "        lambda x: 'N/A' if pd.isna(x) else ('TRUE' if not str(x).isdigit() or not 1 <= int(x) <= max_length else 'FALSE')\n",
    "    )\n",
    "    return df\n",
    "\n",
    "def check_digit_and_alphabet(df, column):\n",
    "    pattern = r\"^[a-zA-Z]{1}[0-9]{5}$\"\n",
    "    df[f'incorrected_format_{column}'] = df[column].apply(\n",
    "        lambda x: 'N/A' if pd.isna(x) else ('TRUE' if not pd.Series(x).str.match(pattern).any() else 'FALSE')\n",
    "    )\n",
    "    return df\n",
    "\n",
    "def check_exactly_fix_digits(df, column, fix_length):\n",
    "    pattern = fr'^\\d{{{fix_length}}}$'\n",
    "    df[f'incorrected_format_{column}'] = df[column].apply(\n",
    "        lambda x: 'N/A' if pd.isna(x) else ('TRUE' if not pd.Series(x).str.match(pattern).any() else 'FALSE')\n",
    "    )\n",
    "    return df\n",
    "\n",
    "def check_specific_string(df, column, valid_strings):\n",
    "    df[f'incorrected_format_{column}'] = df[column].apply(\n",
    "        lambda x: 'N/A' if pd.isna(x) else ('TRUE' if x.strip() not in valid_strings else 'FALSE')\n",
    "    )\n",
    "    return df\n",
    "\n",
    "def compute_summary(df, column):\n",
    "    num_invalid = df[df[f'incorrected_format_{column}'] == 'TRUE'].shape[0]\n",
    "    num_na = df[df[f'incorrected_format_{column}'] == 'N/A'].shape[0]\n",
    "    total_rows = df.shape[0]\n",
    "    print(f'Percentage of rows with incorrect {column} format: {(num_invalid/total_rows)*100}%')\n",
    "    print(f'Number of rows with incorrect {column} format: {num_invalid}')\n",
    "    print(f'Number of rows with {column} is NULL: {num_na}')\n",
    "\n",
    "def save_to_sql(df, engine, table_name):\n",
    "    # engine = create_engine(url)\n",
    "    df.to_sql(table_name, con=engine, if_exists='replace', index=False)\n"
   ]
  },
  {
   "cell_type": "code",
   "execution_count": 4,
   "id": "aad54708-bb4b-462f-9ff7-3738c5314c65",
   "metadata": {},
   "outputs": [
    {
     "name": "stdout",
     "output_type": "stream",
     "text": [
      "Percentage of rows with incorrect loan_amnt format: 99.99818494819424%\n",
      "Number of rows with incorrect loan_amnt format: 1432440\n",
      "Number of rows with loan_amnt is NULL: 26\n",
      "Percentage of rows with incorrect term format: 0.0%\n",
      "Number of rows with incorrect term format: 0\n",
      "Number of rows with term is NULL: 26\n"
     ]
    }
   ],
   "source": [
    "if __name__ == \"__main__\":\n",
    "    filepath = 'LoanStats_web.csv'\n",
    "    columns = ['loan_amnt', 'term']\n",
    "    df = load_file(filepath, columns)\n",
    "\n",
    "    df = check_positive_int(df, 'loan_amnt', 3000)\n",
    "    compute_summary(df, 'loan_amnt')\n",
    "\n",
    "    df = check_specific_string(df, 'term', ['36 months', '60 months'])\n",
    "    compute_summary(df, 'term')\n",
    "\n",
    "    # Save to sql\n",
    "\n",
    "    server = '34.125.58.101'\n",
    "    database = 'TestDB'\n",
    "    username = 'SA'\n",
    "    password = 'Passw0rd123456'\n",
    "    table_name = \"loan_accuracy\"\n",
    "    \n",
    "    # ตั้งค่าการเชื่อมต่อกับ MSSQL โดยใช้ข้อมูลที่เหมาะสมกับสภาพแวดล้อมของคุณ\n",
    "    params = urllib.parse.quote_plus(\"DRIVER={ODBC Driver 17 for SQL Server};SERVER=server;DATABASE=database;UID=username;PWD=password\")\n",
    "    ##### engine = create_engine(f\"mssql+pyodbc:///?odbc_connect={params}\")\n",
    "    # Using pymssql\n",
    "    engine = create_engine(f'mssql+pymssql://{username}:{password}@{server}/{database}')\n",
    "    \n",
    "    save_to_sql(df, engine, table_name)\n"
   ]
  },
  {
   "cell_type": "code",
   "execution_count": null,
   "id": "7568b67f-9d42-4a1b-9c2b-6111a8829832",
   "metadata": {},
   "outputs": [],
   "source": []
  }
 ],
 "metadata": {
  "kernelspec": {
   "display_name": "Python 3 (ipykernel)",
   "language": "python",
   "name": "python3"
  },
  "language_info": {
   "codemirror_mode": {
    "name": "ipython",
    "version": 3
   },
   "file_extension": ".py",
   "mimetype": "text/x-python",
   "name": "python",
   "nbconvert_exporter": "python",
   "pygments_lexer": "ipython3",
   "version": "3.8.18"
  }
 },
 "nbformat": 4,
 "nbformat_minor": 5
}
