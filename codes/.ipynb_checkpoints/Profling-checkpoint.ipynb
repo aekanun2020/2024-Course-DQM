{
 "cells": [
  {
   "cell_type": "markdown",
   "id": "042bb614-b580-488f-98d1-8a1f2f541ff7",
   "metadata": {},
   "source": [
    "# 1. Profiling"
   ]
  },
  {
   "cell_type": "code",
   "execution_count": 1,
   "id": "b0b2e3da-aca2-4768-82f6-85e5a595a926",
   "metadata": {},
   "outputs": [],
   "source": [
    "import pandas as pd\n",
    "# pd.set_option('display.float_format', lambda x: '%.4f' % x)\n",
    "# pd.set_option('display.max_rows', None)  # None หมายถึงไม่จำกัดจำนวนแถวที่จะแสดง\n"
   ]
  },
  {
   "cell_type": "code",
   "execution_count": 2,
   "id": "bbdb3b18-7449-49e0-a456-fd7a1305d7cc",
   "metadata": {},
   "outputs": [],
   "source": [
    "selectedCol_list = ['int_rate']"
   ]
  },
  {
   "cell_type": "code",
   "execution_count": 3,
   "id": "e0cb0d65-6308-4efc-897c-fc802ecafb9a",
   "metadata": {},
   "outputs": [],
   "source": [
    "raw_df = pd.read_csv('LoanStats_web.csv', usecols=selectedCol_list)"
   ]
  },
  {
   "cell_type": "code",
   "execution_count": 4,
   "id": "0e870a40-c92d-4e85-a7e8-67725f54da55",
   "metadata": {},
   "outputs": [
    {
     "name": "stdout",
     "output_type": "stream",
     "text": [
      "<class 'pandas.core.frame.DataFrame'>\n",
      "RangeIndex: 1432466 entries, 0 to 1432465\n",
      "Data columns (total 1 columns):\n",
      " #   Column    Non-Null Count    Dtype \n",
      "---  ------    --------------    ----- \n",
      " 0   int_rate  1432440 non-null  object\n",
      "dtypes: object(1)\n",
      "memory usage: 10.9+ MB\n"
     ]
    }
   ],
   "source": [
    "raw_df.info()"
   ]
  },
  {
   "cell_type": "code",
   "execution_count": 5,
   "id": "06d78841-1c83-4e1d-9f57-8a98b36a81cb",
   "metadata": {},
   "outputs": [
    {
     "data": {
      "text/html": [
       "<div>\n",
       "<style scoped>\n",
       "    .dataframe tbody tr th:only-of-type {\n",
       "        vertical-align: middle;\n",
       "    }\n",
       "\n",
       "    .dataframe tbody tr th {\n",
       "        vertical-align: top;\n",
       "    }\n",
       "\n",
       "    .dataframe thead th {\n",
       "        text-align: right;\n",
       "    }\n",
       "</style>\n",
       "<table border=\"1\" class=\"dataframe\">\n",
       "  <thead>\n",
       "    <tr style=\"text-align: right;\">\n",
       "      <th></th>\n",
       "      <th>int_rate</th>\n",
       "    </tr>\n",
       "  </thead>\n",
       "  <tbody>\n",
       "    <tr>\n",
       "      <th>count</th>\n",
       "      <td>1432440</td>\n",
       "    </tr>\n",
       "    <tr>\n",
       "      <th>unique</th>\n",
       "      <td>258</td>\n",
       "    </tr>\n",
       "    <tr>\n",
       "      <th>top</th>\n",
       "      <td>11.49%</td>\n",
       "    </tr>\n",
       "    <tr>\n",
       "      <th>freq</th>\n",
       "      <td>49032</td>\n",
       "    </tr>\n",
       "  </tbody>\n",
       "</table>\n",
       "</div>"
      ],
      "text/plain": [
       "       int_rate\n",
       "count   1432440\n",
       "unique      258\n",
       "top      11.49%\n",
       "freq      49032"
      ]
     },
     "execution_count": 5,
     "metadata": {},
     "output_type": "execute_result"
    }
   ],
   "source": [
    "raw_df.describe(include='all')"
   ]
  },
  {
   "cell_type": "code",
   "execution_count": 6,
   "id": "bef05c66-de3c-474f-9d4c-f74db1ca3bc9",
   "metadata": {},
   "outputs": [
    {
     "data": {
      "text/plain": [
       "count    1.432440e+06\n",
       "mean     1.299533e+01\n",
       "std      5.046147e+00\n",
       "min      5.310000e+00\n",
       "25%      9.160000e+00\n",
       "50%      1.213000e+01\n",
       "75%      1.577000e+01\n",
       "max      3.099000e+01\n",
       "Name: int_rate, dtype: float64"
      ]
     },
     "execution_count": 6,
     "metadata": {},
     "output_type": "execute_result"
    }
   ],
   "source": [
    "raw_df['int_rate'].str.rstrip('%').astype('float').describe()"
   ]
  },
  {
   "cell_type": "code",
   "execution_count": 7,
   "id": "5ab974c7-7b13-477d-af8d-3ec0393e7558",
   "metadata": {},
   "outputs": [],
   "source": [
    "# raw_df['int_rate'].str.rstrip('%').astype('float').sort_values(ascending=False)"
   ]
  },
  {
   "cell_type": "code",
   "execution_count": 8,
   "id": "91acd6cd-a658-4ec9-a968-38472f201fbd",
   "metadata": {},
   "outputs": [
    {
     "data": {
      "text/plain": [
       "int_rate\n",
       "  5.31%     8613\n",
       "  5.32%    36953\n",
       "  6.00%      493\n",
       "  6.07%     5019\n",
       "  6.08%     2968\n",
       "           ...  \n",
       " 30.79%     1223\n",
       " 30.84%      676\n",
       " 30.89%      484\n",
       " 30.94%      324\n",
       " 30.99%      464\n",
       "Length: 258, dtype: int64"
      ]
     },
     "execution_count": 8,
     "metadata": {},
     "output_type": "execute_result"
    }
   ],
   "source": [
    "raw_df.groupby('int_rate').size()"
   ]
  },
  {
   "cell_type": "code",
   "execution_count": 9,
   "id": "7f2c47ac-5103-4d30-96d1-b42ba9d65ac3",
   "metadata": {},
   "outputs": [
    {
     "data": {
      "text/plain": [
       "int_rate\n",
       " 11.49%    49032\n",
       " 12.74%    41977\n",
       " 13.49%    39202\n",
       " 13.99%    39032\n",
       "  5.32%    36953\n",
       "           ...  \n",
       " 25.99%        2\n",
       " 21.99%        2\n",
       " 15.29%        2\n",
       " 13.19%        1\n",
       " 11.16%        1\n",
       "Name: count, Length: 258, dtype: int64"
      ]
     },
     "execution_count": 9,
     "metadata": {},
     "output_type": "execute_result"
    }
   ],
   "source": [
    "raw_df['int_rate'].value_counts()"
   ]
  },
  {
   "cell_type": "code",
   "execution_count": null,
   "id": "f4aad568-2fd4-4db6-9086-beefa811af64",
   "metadata": {},
   "outputs": [],
   "source": []
  }
 ],
 "metadata": {
  "kernelspec": {
   "display_name": "Python 3 (ipykernel)",
   "language": "python",
   "name": "python3"
  },
  "language_info": {
   "codemirror_mode": {
    "name": "ipython",
    "version": 3
   },
   "file_extension": ".py",
   "mimetype": "text/x-python",
   "name": "python",
   "nbconvert_exporter": "python",
   "pygments_lexer": "ipython3",
   "version": "3.8.19"
  }
 },
 "nbformat": 4,
 "nbformat_minor": 5
}
