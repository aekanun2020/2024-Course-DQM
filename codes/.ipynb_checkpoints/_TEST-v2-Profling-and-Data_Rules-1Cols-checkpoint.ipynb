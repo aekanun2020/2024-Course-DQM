{
 "cells": [
  {
   "cell_type": "markdown",
   "id": "042bb614-b580-488f-98d1-8a1f2f541ff7",
   "metadata": {},
   "source": [
    "# 1. Profiling"
   ]
  },
  {
   "cell_type": "code",
   "execution_count": 1,
   "id": "b0b2e3da-aca2-4768-82f6-85e5a595a926",
   "metadata": {},
   "outputs": [],
   "source": [
    "import pandas as pd\n",
    "# pd.set_option('display.float_format', lambda x: '%.4f' % x)\n",
    "# pd.set_option('display.max_rows', None)  # None หมายถึงไม่จำกัดจำนวนแถวที่จะแสดง\n"
   ]
  },
  {
   "cell_type": "markdown",
   "id": "b95712fd-e527-47ee-b76b-d77c8c816255",
   "metadata": {},
   "source": [
    "# 2. Data Rules and Use them for Measurement"
   ]
  },
  {
   "cell_type": "code",
   "execution_count": 2,
   "id": "3a102d13-8054-43fb-a48b-8edbb682f3bd",
   "metadata": {},
   "outputs": [],
   "source": [
    "# Define your data rules here\n",
    "data_rules = {\n",
    "    'int_rate': r'^\\d+\\.\\d{2}$',\n",
    "    'emp_length': r'^(less than 1 year|1 year|2 years|3 years|4 years|5 years|6 years|7 years|8 years|9 years|10\\+ years)$',\n",
    "    'loan_amnt': lambda x: \"NULL\" if pd.isna(x) else (\"TRUE\" if 1000 <= float(x) <= 40000 else \"FALSE\"),\n",
    "    'loan_status': r'^(Charged Off|Current|Default|Fully Paid|In Grace Period|Late \\(16-30 days\\)|Late \\(31-120 days\\))$'\n",
    "}"
   ]
  },
  {
   "cell_type": "code",
   "execution_count": 3,
   "id": "8675e15f-0cec-42df-b7e7-cf365f7ae1eb",
   "metadata": {},
   "outputs": [],
   "source": [
    "import re\n",
    "import pandas as pd\n",
    "from sqlalchemy import create_engine\n",
    "import urllib\n",
    "\n",
    "def load_file(filepath, columns):\n",
    "    \"\"\"Load specific columns from a CSV file.\"\"\"\n",
    "    return pd.read_csv(filepath, usecols=columns)\n",
    "\n",
    "def validate_data(df, data_rules):\n",
    "    \"\"\"Apply regex patterns or custom functions to validate data in dataframe columns.\"\"\"\n",
    "    for column, rule in data_rules.items():\n",
    "        if isinstance(rule, str):  # Regex pattern\n",
    "            df[f'corrected_format_{column}'] = df[column].apply(\n",
    "                lambda x: \"NULL\" if pd.isna(x) else (\"TRUE\" if re.match(rule, str(x)) else \"FALSE\")\n",
    "            )\n",
    "        elif callable(rule):  # Function to handle complex validations\n",
    "            df[f'corrected_format_{column}'] = df[column].apply(\n",
    "                lambda x: \"NULL\" if pd.isna(x) else rule(x)\n",
    "            )\n",
    "    return df\n",
    "\n",
    "def compute_summary(df, column):\n",
    "    \"\"\"Print detailed summary for validation results of a specific column.\"\"\"\n",
    "    total_rows = df.shape[0]\n",
    "    num_na = (df[f'corrected_format_{column}'] == \"NULL\").sum()\n",
    "    num_not_na = total_rows - num_na\n",
    "    num_correct = (df[f'corrected_format_{column}'] == \"TRUE\").sum()\n",
    "    num_incorrect = (df[f'corrected_format_{column}'] == \"FALSE\").sum()\n",
    "\n",
    "    print(f'Total rows: {total_rows}')\n",
    "    print(f'Number of rows with {column} is NULL: {num_na}')\n",
    "    print(f'Number of rows with {column} is not NULL: {num_not_na}')\n",
    "    print(f'Number of rows with correct {column} format and not null: {num_correct}')\n",
    "    if num_not_na > 0:  # Prevent division by zero\n",
    "        print(f'Percentage of rows with correct {column} format and not null: {num_correct / num_not_na * 100:.2f}%')\n",
    "    else:\n",
    "        print(\"No non-null data available to calculate percentage of correct format.\")\n",
    "    print(f'Number of rows with incorrect {column} format and not null: {num_incorrect}')\n",
    "    if num_not_na > 0:  # Prevent division by zero\n",
    "        print(f'Percentage of rows with incorrect {column} format and not null: {num_incorrect / num_not_na * 100:.2f}%')\n",
    "    print(\"-----------------------------------------------------------------------------------\")\n",
    "\n",
    "def save_to_sql(df, engine, table_name):\n",
    "    df.to_sql(table_name, con=engine, if_exists='replace', index=False)"
   ]
  },
  {
   "cell_type": "code",
   "execution_count": 4,
   "id": "5e1b11b4-c57d-4ba7-b547-1017c5167aa3",
   "metadata": {},
   "outputs": [
    {
     "name": "stdout",
     "output_type": "stream",
     "text": [
      "Total rows: 1432466\n",
      "Number of rows with int_rate is NULL: 26\n",
      "Number of rows with int_rate is not NULL: 1432440\n",
      "Number of rows with correct int_rate format and not null: 0\n",
      "Percentage of rows with correct int_rate format and not null: 0.00%\n",
      "Number of rows with incorrect int_rate format and not null: 1432440\n",
      "Percentage of rows with incorrect int_rate format and not null: 100.00%\n",
      "-----------------------------------------------------------------------------------\n",
      "Total rows: 1432466\n",
      "Number of rows with emp_length is NULL: 108496\n",
      "Number of rows with emp_length is not NULL: 1323970\n",
      "Number of rows with correct emp_length format and not null: 1205577\n",
      "Percentage of rows with correct emp_length format and not null: 91.06%\n",
      "Number of rows with incorrect emp_length format and not null: 118393\n",
      "Percentage of rows with incorrect emp_length format and not null: 8.94%\n",
      "-----------------------------------------------------------------------------------\n",
      "Total rows: 1432466\n",
      "Number of rows with loan_amnt is NULL: 26\n",
      "Number of rows with loan_amnt is not NULL: 1432440\n",
      "Number of rows with correct loan_amnt format and not null: 1432440\n",
      "Percentage of rows with correct loan_amnt format and not null: 100.00%\n",
      "Number of rows with incorrect loan_amnt format and not null: 0\n",
      "Percentage of rows with incorrect loan_amnt format and not null: 0.00%\n",
      "-----------------------------------------------------------------------------------\n",
      "Total rows: 1432466\n",
      "Number of rows with loan_status is NULL: 26\n",
      "Number of rows with loan_status is not NULL: 1432440\n",
      "Number of rows with correct loan_status format and not null: 1432440\n",
      "Percentage of rows with correct loan_status format and not null: 100.00%\n",
      "Number of rows with incorrect loan_status format and not null: 0\n",
      "Percentage of rows with incorrect loan_status format and not null: 0.00%\n",
      "-----------------------------------------------------------------------------------\n"
     ]
    }
   ],
   "source": [
    "# Implement in main script\n",
    "if __name__ == \"__main__\":\n",
    "    filepath = 'LoanStats_web.csv'\n",
    "    columns = list(data_rules.keys())\n",
    "    df = load_file(filepath, columns)\n",
    "    df = validate_data(df, data_rules)\n",
    "    for column in data_rules.keys():\n",
    "        compute_summary(df, column)\n"
   ]
  },
  {
   "cell_type": "code",
   "execution_count": 5,
   "id": "eea3fe8c-f057-4935-a33d-b220036eda6f",
   "metadata": {},
   "outputs": [
    {
     "name": "stdout",
     "output_type": "stream",
     "text": [
      "<class 'pandas.core.frame.DataFrame'>\n",
      "RangeIndex: 1432466 entries, 0 to 1432465\n",
      "Data columns (total 8 columns):\n",
      " #   Column                        Non-Null Count    Dtype  \n",
      "---  ------                        --------------    -----  \n",
      " 0   loan_amnt                     1432440 non-null  float64\n",
      " 1   int_rate                      1432440 non-null  object \n",
      " 2   emp_length                    1323970 non-null  object \n",
      " 3   loan_status                   1432440 non-null  object \n",
      " 4   corrected_format_int_rate     1432466 non-null  object \n",
      " 5   corrected_format_emp_length   1432466 non-null  object \n",
      " 6   corrected_format_loan_amnt    1432466 non-null  object \n",
      " 7   corrected_format_loan_status  1432466 non-null  object \n",
      "dtypes: float64(1), object(7)\n",
      "memory usage: 87.4+ MB\n"
     ]
    }
   ],
   "source": [
    "df.info()"
   ]
  },
  {
   "cell_type": "code",
   "execution_count": 6,
   "id": "5274318f-d83b-4092-8574-0b3327f7440a",
   "metadata": {},
   "outputs": [
    {
     "data": {
      "text/plain": [
       "['int_rate', 'emp_length', 'loan_amnt', 'loan_status']"
      ]
     },
     "execution_count": 6,
     "metadata": {},
     "output_type": "execute_result"
    }
   ],
   "source": [
    "[ n for n in columns]"
   ]
  },
  {
   "cell_type": "code",
   "execution_count": 7,
   "id": "f4aad568-2fd4-4db6-9086-beefa811af64",
   "metadata": {},
   "outputs": [
    {
     "data": {
      "text/html": [
       "<div>\n",
       "<style scoped>\n",
       "    .dataframe tbody tr th:only-of-type {\n",
       "        vertical-align: middle;\n",
       "    }\n",
       "\n",
       "    .dataframe tbody tr th {\n",
       "        vertical-align: top;\n",
       "    }\n",
       "\n",
       "    .dataframe thead th {\n",
       "        text-align: right;\n",
       "    }\n",
       "</style>\n",
       "<table border=\"1\" class=\"dataframe\">\n",
       "  <thead>\n",
       "    <tr style=\"text-align: right;\">\n",
       "      <th></th>\n",
       "      <th>int_rate</th>\n",
       "      <th>emp_length</th>\n",
       "      <th>loan_amnt</th>\n",
       "      <th>loan_status</th>\n",
       "    </tr>\n",
       "  </thead>\n",
       "  <tbody>\n",
       "    <tr>\n",
       "      <th>count</th>\n",
       "      <td>1432440</td>\n",
       "      <td>1323970</td>\n",
       "      <td>1.432440e+06</td>\n",
       "      <td>1432440</td>\n",
       "    </tr>\n",
       "    <tr>\n",
       "      <th>unique</th>\n",
       "      <td>258</td>\n",
       "      <td>11</td>\n",
       "      <td>NaN</td>\n",
       "      <td>7</td>\n",
       "    </tr>\n",
       "    <tr>\n",
       "      <th>top</th>\n",
       "      <td>11.49%</td>\n",
       "      <td>10+ years</td>\n",
       "      <td>NaN</td>\n",
       "      <td>Current</td>\n",
       "    </tr>\n",
       "    <tr>\n",
       "      <th>freq</th>\n",
       "      <td>49032</td>\n",
       "      <td>478304</td>\n",
       "      <td>NaN</td>\n",
       "      <td>702223</td>\n",
       "    </tr>\n",
       "    <tr>\n",
       "      <th>mean</th>\n",
       "      <td>NaN</td>\n",
       "      <td>NaN</td>\n",
       "      <td>1.537039e+04</td>\n",
       "      <td>NaN</td>\n",
       "    </tr>\n",
       "    <tr>\n",
       "      <th>std</th>\n",
       "      <td>NaN</td>\n",
       "      <td>NaN</td>\n",
       "      <td>9.646026e+03</td>\n",
       "      <td>NaN</td>\n",
       "    </tr>\n",
       "    <tr>\n",
       "      <th>min</th>\n",
       "      <td>NaN</td>\n",
       "      <td>NaN</td>\n",
       "      <td>1.000000e+03</td>\n",
       "      <td>NaN</td>\n",
       "    </tr>\n",
       "    <tr>\n",
       "      <th>25%</th>\n",
       "      <td>NaN</td>\n",
       "      <td>NaN</td>\n",
       "      <td>8.000000e+03</td>\n",
       "      <td>NaN</td>\n",
       "    </tr>\n",
       "    <tr>\n",
       "      <th>50%</th>\n",
       "      <td>NaN</td>\n",
       "      <td>NaN</td>\n",
       "      <td>1.300000e+04</td>\n",
       "      <td>NaN</td>\n",
       "    </tr>\n",
       "    <tr>\n",
       "      <th>75%</th>\n",
       "      <td>NaN</td>\n",
       "      <td>NaN</td>\n",
       "      <td>2.000000e+04</td>\n",
       "      <td>NaN</td>\n",
       "    </tr>\n",
       "    <tr>\n",
       "      <th>max</th>\n",
       "      <td>NaN</td>\n",
       "      <td>NaN</td>\n",
       "      <td>4.000000e+04</td>\n",
       "      <td>NaN</td>\n",
       "    </tr>\n",
       "  </tbody>\n",
       "</table>\n",
       "</div>"
      ],
      "text/plain": [
       "       int_rate emp_length     loan_amnt loan_status\n",
       "count   1432440    1323970  1.432440e+06     1432440\n",
       "unique      258         11           NaN           7\n",
       "top      11.49%  10+ years           NaN     Current\n",
       "freq      49032     478304           NaN      702223\n",
       "mean        NaN        NaN  1.537039e+04         NaN\n",
       "std         NaN        NaN  9.646026e+03         NaN\n",
       "min         NaN        NaN  1.000000e+03         NaN\n",
       "25%         NaN        NaN  8.000000e+03         NaN\n",
       "50%         NaN        NaN  1.300000e+04         NaN\n",
       "75%         NaN        NaN  2.000000e+04         NaN\n",
       "max         NaN        NaN  4.000000e+04         NaN"
      ]
     },
     "execution_count": 7,
     "metadata": {},
     "output_type": "execute_result"
    }
   ],
   "source": [
    "df[[ n for n in columns]].describe(include='all')"
   ]
  },
  {
   "cell_type": "code",
   "execution_count": 8,
   "id": "948fa7d1-33ce-4f74-8eb6-1d5badf56119",
   "metadata": {},
   "outputs": [
    {
     "data": {
      "text/plain": [
       "corrected_format_int_rate\n",
       "FALSE    1432440\n",
       "NULL          26\n",
       "dtype: int64"
      ]
     },
     "execution_count": 8,
     "metadata": {},
     "output_type": "execute_result"
    }
   ],
   "source": [
    "df[['corrected_format_int_rate']].groupby('corrected_format_int_rate').size()"
   ]
  },
  {
   "cell_type": "code",
   "execution_count": 9,
   "id": "cc0e6698-4440-4317-8d33-8416a42f0f68",
   "metadata": {},
   "outputs": [
    {
     "data": {
      "text/plain": [
       "corrected_format_int_rate\n",
       "FALSE                        1432440\n",
       "NULL                              26\n",
       "Name: count, dtype: int64"
      ]
     },
     "execution_count": 9,
     "metadata": {},
     "output_type": "execute_result"
    }
   ],
   "source": [
    "df[['corrected_format_int_rate']].value_counts()"
   ]
  },
  {
   "cell_type": "code",
   "execution_count": null,
   "id": "48dc8c77-65a0-4b7e-8b54-45214e655514",
   "metadata": {},
   "outputs": [],
   "source": []
  }
 ],
 "metadata": {
  "kernelspec": {
   "display_name": "Python 3 (ipykernel)",
   "language": "python",
   "name": "python3"
  },
  "language_info": {
   "codemirror_mode": {
    "name": "ipython",
    "version": 3
   },
   "file_extension": ".py",
   "mimetype": "text/x-python",
   "name": "python",
   "nbconvert_exporter": "python",
   "pygments_lexer": "ipython3",
   "version": "3.8.18"
  }
 },
 "nbformat": 4,
 "nbformat_minor": 5
}
